{
 "cells": [
  {
   "cell_type": "code",
   "execution_count": 4,
   "metadata": {},
   "outputs": [],
   "source": [
    "import numpy as np\n",
    "import pandas as pd\n",
    "import matplotlib.pyplot as plt"
   ]
  },
  {
   "cell_type": "code",
   "execution_count": 8,
   "metadata": {},
   "outputs": [],
   "source": [
    "from sklearn.pipeline import Pipeline\n",
    "from sklearn.preprocessing import PolynomialFeatures\n",
    "from sklearn.linear_model import LinearRegression\n",
    "from sklearn.model_selection import cross_val_score"
   ]
  },
  {
   "cell_type": "code",
   "execution_count": 16,
   "metadata": {},
   "outputs": [],
   "source": [
    "def my_func(x):\n",
    "    return np.cos(1.5 * np.pi * x)"
   ]
  },
  {
   "cell_type": "code",
   "execution_count": 18,
   "metadata": {},
   "outputs": [],
   "source": [
    "np.random.seed(0)\n",
    "\n",
    "n_samples = 30\n",
    "\n",
    "x = np.sort(np.random.rand(n_samples))\n",
    "my_func_y = my_func(x) + np.random.randn(n_samples) * 0.1"
   ]
  },
  {
   "cell_type": "code",
   "execution_count": 27,
   "metadata": {},
   "outputs": [
    {
     "name": "stdout",
     "output_type": "stream",
     "text": [
      "Degree 1\n",
      "MSE = 4.08e-01(+/- 4.25e-01)\n",
      "Degree 2\n",
      "MSE = 5.82e-02(+/- 5.71e-02)\n",
      "Degree 3\n",
      "MSE = 1.87e-02(+/- 1.30e-02)\n",
      "Degree 4\n",
      "MSE = 4.32e-02(+/- 7.08e-02)\n",
      "Degree 5\n",
      "MSE = 9.87e-02(+/- 2.29e-01)\n",
      "Degree 6\n",
      "MSE = 1.14e-01(+/- 2.52e-01)\n",
      "Degree 7\n",
      "MSE = 1.97e-01(+/- 4.46e-01)\n",
      "Degree 8\n",
      "MSE = 3.60e-01(+/- 5.37e-01)\n",
      "Degree 9\n",
      "MSE = 2.12e+01(+/- 6.30e+01)\n",
      "Degree 10\n",
      "MSE = 1.52e+03(+/- 4.55e+03)\n",
      "Degree 11\n",
      "MSE = 2.40e+04(+/- 7.21e+04)\n",
      "Degree 12\n",
      "MSE = 2.07e+03(+/- 6.16e+03)\n",
      "Degree 13\n",
      "MSE = 1.32e+06(+/- 3.97e+06)\n",
      "Degree 14\n",
      "MSE = 7.52e+06(+/- 2.26e+07)\n",
      "Degree 15\n",
      "MSE = 1.81e+08(+/- 5.42e+08)\n",
      "Degree 16\n",
      "MSE = 1.20e+10(+/- 3.61e+10)\n",
      "Degree 17\n",
      "MSE = 4.00e+09(+/- 1.20e+10)\n",
      "Degree 18\n",
      "MSE = 8.21e+11(+/- 2.46e+12)\n",
      "Degree 19\n",
      "MSE = 4.29e+11(+/- 1.29e+12)\n",
      "Degree 20\n",
      "MSE = 2.20e+11(+/- 6.60e+11)\n",
      "Degree 21\n",
      "MSE = 9.15e+11(+/- 2.74e+12)\n",
      "Degree 22\n",
      "MSE = 2.57e+11(+/- 7.70e+11)\n",
      "Degree 23\n",
      "MSE = 6.15e+10(+/- 1.84e+11)\n",
      "Degree 24\n",
      "MSE = 1.13e+10(+/- 3.38e+10)\n",
      "Degree 25\n",
      "MSE = 9.00e+08(+/- 2.58e+09)\n",
      "Degree 26\n",
      "MSE = 1.09e+12(+/- 3.28e+12)\n",
      "Degree 27\n",
      "MSE = 4.84e+11(+/- 1.45e+12)\n",
      "Degree 28\n",
      "MSE = 2.13e+11(+/- 6.33e+11)\n",
      "Degree 29\n",
      "MSE = 8.97e+10(+/- 2.61e+11)\n",
      "Degree 30\n",
      "MSE = 3.84e+10(+/- 1.06e+11)\n"
     ]
    }
   ],
   "source": [
    "#plt.figure(figsize=(14, 5))\n",
    "for degree in range(1,31):\n",
    "    #ax = plt.subplot(1, len(degrees), i + 1)\n",
    "    #plt.setp(ax, xticks=(), yticks=())\n",
    "\n",
    "    polynomial_features = PolynomialFeatures(degree,\n",
    "                                             include_bias=False)\n",
    "    linear_regression = LinearRegression()\n",
    "    pipeline = Pipeline([(\"polynomial_features\", polynomial_features),\n",
    "                         (\"linear_regression\", linear_regression)])\n",
    "    pipeline.fit(x[:, np.newaxis], my_func_y)\n",
    "\n",
    "    # Evaluate the models using crossvalidation\n",
    "    scores = cross_val_score(pipeline, x[:, np.newaxis], my_func_y,\n",
    "                             scoring=\"neg_mean_squared_error\", cv=10)\n",
    "\n",
    "    #X_test = np.linspace(0, 1, 100)\n",
    "    #plt.plot(X_test, pipeline.predict(X_test[:, np.newaxis]), label=\"Model\")\n",
    "    #plt.plot(X_test, my_func(X_test), label=\"True function\")\n",
    "    #plt.scatter(x, my_func_y, edgecolor='b', s=20, label=\"Samples\")\n",
    "    #plt.xlabel(\"x\")\n",
    "    #plt.ylabel(\"y\")\n",
    "    #plt.xlim((0, 1))\n",
    "    #plt.ylim((-2, 2))\n",
    "    #plt.legend(loc=\"best\")\n",
    "    #plt.title(\"Degree {}\\nMSE = {:.2e}(+/- {:.2e})\".format(\n",
    "    #    degrees[i], -scores.mean(), scores.std()))\n",
    "    print(\"Degree {}\\nMSE = {:.2e}(+/- {:.2e})\".format(\n",
    "        degree, -scores.mean(), scores.std()))\n",
    "#plt.show()"
   ]
  },
  {
   "cell_type": "code",
   "execution_count": null,
   "metadata": {},
   "outputs": [],
   "source": []
  }
 ],
 "metadata": {
  "kernelspec": {
   "display_name": "Python 3",
   "language": "python",
   "name": "python3"
  },
  "language_info": {
   "codemirror_mode": {
    "name": "ipython",
    "version": 3
   },
   "file_extension": ".py",
   "mimetype": "text/x-python",
   "name": "python",
   "nbconvert_exporter": "python",
   "pygments_lexer": "ipython3",
   "version": "3.5.2"
  }
 },
 "nbformat": 4,
 "nbformat_minor": 2
}
