{
 "cells": [
  {
   "cell_type": "markdown",
   "metadata": {},
   "source": [
    "### Homework: Implement possibilistic k-means\n",
    "\n",
    "Goal:\n",
    "1. Implement the mahalanobis_distance function.\n",
    "2. Implement the calculate_eta function.\n",
    "3. Implement the calculate_u.\n",
    "\n",
    "Hint: the assignation matrix should not be set to zeros at the beginning."
   ]
  },
  {
   "cell_type": "code",
   "execution_count": 1,
   "metadata": {
    "collapsed": true
   },
   "outputs": [],
   "source": [
    "import numpy as np\n",
    "from scipy.spatial.distance import cdist\n",
    "from matplotlib import pyplot as plt\n",
    "import sklearn.datasets as ds"
   ]
  },
  {
   "cell_type": "code",
   "execution_count": 2,
   "metadata": {
    "collapsed": true
   },
   "outputs": [],
   "source": [
    "#funtion to calculate eta\n",
    "def calculate_eta(U, distance_matrix):\n",
    "    eta = np.sum(U * distance_matrix, axis=1) / np.sum(U, axis=1)\n",
    "    return eta"
   ]
  },
  {
   "cell_type": "code",
   "execution_count": 3,
   "metadata": {
    "collapsed": true
   },
   "outputs": [],
   "source": [
    "#funtion to calculate centers\n",
    "def calculate_clusters(data, U, fuzz):\n",
    "    um = U ** fuzz\n",
    "    centers = um.dot(data.T) / np.atleast_2d(um.sum(axis=1)).T\n",
    "    return centers"
   ]
  },
  {
   "cell_type": "code",
   "execution_count": 4,
   "metadata": {
    "collapsed": false
   },
   "outputs": [],
   "source": [
    "#function to calculate distance\n",
    "def mahalanobis_distance(a, b):\n",
    "    return cdist(a, b, 'mahalanobis')"
   ]
  },
  {
   "cell_type": "code",
   "execution_count": 5,
   "metadata": {
    "collapsed": true
   },
   "outputs": [],
   "source": [
    "def calculate_U(data, centers, n, m):\n",
    "    #possiblistic\n",
    "\n",
    "    lenght = mahalanobis_distance(data.T, centers)\n",
    "    lenght = np.fmax(lenght, np.finfo(data.dtype).eps)\n",
    "\n",
    "    val = ((lenght ** 2) / n).T ** (1. / (m - 1))\n",
    "    U = 1. / (1. + val)\n",
    "\n",
    "    return U, lenght"
   ]
  },
  {
   "cell_type": "code",
   "execution_count": 6,
   "metadata": {
    "collapsed": true
   },
   "outputs": [],
   "source": [
    "def init_U(data, centers, n, m):\n",
    "    #fuzzy\n",
    "    \n",
    "    lenght = mahalanobis_distance(data.T, centers).T\n",
    "    lenght = np.fmax(lenght, np.finfo(data.dtype).eps)\n",
    "\n",
    "    val = lenght ** (-2. / (m - 1))\n",
    "    U = val / np.sum(val, axis=0, keepdims=1)\n",
    "\n",
    "    return U, lenght"
   ]
  },
  {
   "cell_type": "code",
   "execution_count": 7,
   "metadata": {
    "collapsed": true
   },
   "outputs": [],
   "source": [
    "def kmeans(data, cluster_number, fuzz, error, max_iterations, function, centers0=None, n=None):\n",
    "    \n",
    "    S, N = data.shape\n",
    "\n",
    "    centers = np.empty((max_iterations, cluster_number, S))\n",
    "    centers[0] = np.array(centers0)\n",
    "\n",
    "    U = np.empty((max_iterations, cluster_number, N))\n",
    "\n",
    "    i = 0\n",
    "    while i < max_iterations - 1:\n",
    "\n",
    "        U[i], distance = function(data, centers[i], n, fuzz)\n",
    "        centers[i + 1] = calculate_clusters(data, U[i], fuzz)\n",
    "\n",
    "        #stop condition\n",
    "        if np.linalg.norm(centers[i + 1] - centers[i]) < error:\n",
    "            break\n",
    "\n",
    "        i += 1\n",
    "    return centers[i], centers[0], U[i - 1], U[0], distance, i\n",
    "    #return:\n",
    "    #1. last Centers matrix\n",
    "    #2. first Centers matrix\n",
    "    #3. last U matrix\n",
    "    #4. first U matrix\n",
    "    #5. distance matrix\n",
    "    #6. current iteration\n"
   ]
  },
  {
   "cell_type": "code",
   "execution_count": 8,
   "metadata": {
    "collapsed": true
   },
   "outputs": [],
   "source": [
    "def calculate(data, cluster_number, fuzz, error, max_iterations, centers0=None):\n",
    "    \n",
    "    if centers0 is None:\n",
    "        xt = data.T\n",
    "        centers0 = xt[np.random.choice(xt.shape[0], cluster_number, replace=False), :]\n",
    "\n",
    "    centers, centers0, U, u0, distance, t = kmeans(data, cluster_number, fuzz, error, max_iterations, init_U, centers0, fuzz)\n",
    "    n = calculate_eta(U, distance)\n",
    "    return kmeans(data, cluster_number, fuzz, error, t, calculate_U, centers0=centers, n=n)"
   ]
  },
  {
   "cell_type": "code",
   "execution_count": 9,
   "metadata": {
    "collapsed": true
   },
   "outputs": [],
   "source": [
    "def plot(x, centers, u, c, labels=None):\n",
    "\n",
    "    ax = plt.subplots()[1]\n",
    "\n",
    "    # Plot assigned clusters, for each data point in training set\n",
    "    cluster_membership = np.argmax(u, axis=0)\n",
    "\n",
    "    for j in range(c):\n",
    "        ax.scatter( x[0][cluster_membership == j],\n",
    "            x[1][cluster_membership == j],\n",
    "            alpha=0.5,\n",
    "            edgecolors=\"none\")\n",
    "\n",
    "    # Mark the center of each fuzzy cluster\n",
    "    for pt in centers:\n",
    "        ax.plot(pt[0], pt[1], 'rs')\n",
    "\n",
    "    ax.legend()\n",
    "    ax.grid(True)\n",
    "    plt.show()\n",
    "   "
   ]
  },
  {
   "cell_type": "code",
   "execution_count": 10,
   "metadata": {
    "collapsed": false
   },
   "outputs": [
    {
     "name": "stderr",
     "output_type": "stream",
     "text": [
      "No handles with labels found to put in legend.\n"
     ]
    },
    {
     "data": {
      "image/png": "[encoded data removed]",
      "text/plain": [
       "<matplotlib.figure.Figure at 0x7f066284bfd0>"
      ]
     },
     "metadata": {},
     "output_type": "display_data"
    }
   ],
   "source": [
    "num_samples = 1000\n",
    "num_features = 4\n",
    "cluster_number = 4\n",
    "fuzzifier = 2\n",
    "error = 0.001\n",
    "maxiter = 100\n",
    "\n",
    "#creating data for clustering\n",
    "sample_data = ds.make_blobs(num_samples, num_features, cluster_number)[0]\n",
    "np.random.shuffle(sample_data)\n",
    "sample_data = sample_data.T\n",
    "\n",
    "#calculati\n",
    "centers, centers0, U, U0, d, t = calculate(sample_data, cluster_number, fuzzifier, error, maxiter)\n",
    "\n",
    "plot(sample_data, centers, U, cluster_number)"
   ]
  },
  {
   "cell_type": "code",
   "execution_count": null,
   "metadata": {
    "collapsed": false
   },
   "outputs": [],
   "source": []
  },
  {
   "cell_type": "code",
   "execution_count": null,
   "metadata": {
    "collapsed": true
   },
   "outputs": [],
   "source": []
  }
 ],
 "metadata": {
  "kernelspec": {
   "display_name": "Python 3",
   "language": "python",
   "name": "python3"
  },
  "language_info": {
   "codemirror_mode": {
    "name": "ipython",
    "version": 3
   },
   "file_extension": ".py",
   "mimetype": "text/x-python",
   "name": "python",
   "nbconvert_exporter": "python",
   "pygments_lexer": "ipython3",
   "version": "3.6.3"
  }
 },
 "nbformat": 4,
 "nbformat_minor": 2
}
