{
 "cells": [
  {
   "cell_type": "markdown",
   "metadata": {},
   "source": [
    "## Homework #2\n",
    "\n",
    "Implement the Czekanowski-Dice index. \n",
    "\n",
    "\\begin{equation}\n",
    "C=2\\frac{P\\times R}{R+R}.\n",
    "\\end{equation}\n",
    "Precision is defined as:\n",
    "\\begin{equation}\n",
    "PPV=\\frac{\\#TP}{\\#TP+\\#FP}.\n",
    "\\end{equation}\n",
    "Recall is defined as:\n",
    "\\begin{equation}\n",
    "TPR=\\frac{\\#TP}{\\#TP+\\#FN}.\n",
    "\\end{equation}"
   ]
  },
  {
   "cell_type": "code",
   "execution_count": 3,
   "metadata": {
    "collapsed": true
   },
   "outputs": [],
   "source": [
    "def czekanowski_dice_index(data_set,assignation):\n",
    "    TP, FP, TN, TP = 0, 0, 0, 0\n",
    "    for data, assignation in data_set, assignation:\n",
    "        for position in assignation:\n",
    "            if(data[-1] == assignation and assignation == 1):\n",
    "                TP += 1\n",
    "            elif(row_data[-1] == assignation and assignation == 0):\n",
    "                TN += 1\n",
    "            elif(row_data[-1] != assignation and assignation == 1):\n",
    "                FN += 1\n",
    "            else:\n",
    "                FP += 1\n",
    "    \n",
    "    matrix = [TP, FP][FN, TN]\n",
    "    \n",
    "    Precision = TP / (TP + FP)\n",
    "    Recall = TP / (TP + FN)\n",
    "    \n",
    "    return ((Precision * Recall) / (Precision + Recall))"
   ]
  },
  {
   "cell_type": "code",
   "execution_count": null,
   "metadata": {
    "collapsed": true
   },
   "outputs": [],
   "source": []
  }
 ],
 "metadata": {
  "kernelspec": {
   "display_name": "Python 3",
   "language": "python",
   "name": "python3"
  },
  "language_info": {
   "codemirror_mode": {
    "name": "ipython",
    "version": 3
   },
   "file_extension": ".py",
   "mimetype": "text/x-python",
   "name": "python",
   "nbconvert_exporter": "python",
   "pygments_lexer": "ipython3",
   "version": "3.6.3"
  }
 },
 "nbformat": 4,
 "nbformat_minor": 2
}
